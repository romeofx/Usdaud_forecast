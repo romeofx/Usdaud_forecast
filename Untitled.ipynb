{
 "cells": [
  {
   "cell_type": "markdown",
   "id": "05bdbd53-b913-46ad-9294-abeec56b89e4",
   "metadata": {},
   "source": [
    "## MT5 DATA"
   ]
  },
  {
   "cell_type": "code",
   "execution_count": 3,
   "id": "54725c04-40f9-4e2e-8df9-ab9359979b24",
   "metadata": {},
   "outputs": [
    {
     "name": "stdout",
     "output_type": "stream",
     "text": [
      "[...] Initializing MetaTrader 5\n",
      "[...] Fetching data from MT5...\n",
      "[✓] Data saved to `xauusd_data.csv`\n",
      "\n",
      "[✓] Last 5 rows of data:\n",
      "                   time     open     high      low    close  tick_volume  \\\n",
      "995 2025-07-04 16:55:00  3336.83  3337.42  3336.78  3337.38           36   \n",
      "996 2025-07-04 16:56:00  3337.38  3337.39  3336.99  3337.00           55   \n",
      "997 2025-07-04 16:57:00  3337.00  3337.00  3336.62  3336.64           41   \n",
      "998 2025-07-04 16:58:00  3336.64  3336.70  3336.22  3336.47           73   \n",
      "999 2025-07-04 16:59:00  3336.47  3337.20  3336.44  3337.01           95   \n",
      "\n",
      "     spread  real_volume  \n",
      "995      12            0  \n",
      "996      12            0  \n",
      "997      12            0  \n",
      "998      12            0  \n",
      "999      12            0  \n",
      "\n",
      "[📊] Last 350 closing prices (copy-paste ready):\n",
      "3336,3335,3336,3335,3335,3336,3337,3337,3336,3337,3336,3335,3336,3336,3336,3336,3336,3336,3337,3337,3337,3337,3337,3337,3336,3337,3336,3336,3337,3337,3336,3337,3337,3336,3336,3336,3335,3335,3335,3335,3336,3335,3336,3336,3336,3336,3335,3334,3335,3334,3334,3333,3334,3334,3335,3335,3335,3335,3335,3337,3336,3336,3336,3337,3336,3335,3336,3337,3336,3336,3336,3336,3335,3335,3335,3334,3334,3334,3335,3335,3335,3336,3336,3336,3335,3335,3335,3335,3334,3333,3332,3333,3333,3332,3332,3332,3332,3332,3333,3333,3334,3334,3334,3334,3334,3334,3334,3334,3333,3333,3333,3332,3332,3332,3332,3333,3333,3333,3334,3335,3334,3335,3335,3334,3333,3333,3333,3334,3334,3334,3334,3334,3333,3334,3334,3334,3333,3333,3333,3334,3334,3334,3334,3334,3334,3335,3334,3335,3335,3335,3336,3336,3336,3337,3337,3337,3337,3337,3337,3337,3337,3336,3335,3335,3334,3335,3335,3335,3335,3333,3332,3332,3332,3333,3333,3332,3333,3333,3333,3332,3332,3332,3332,3332,3331,3332,3332,3332,3332,3331,3332,3332,3333,3333,3333,3333,3333,3333,3333,3333,3333,3332,3332,3332,3332,3333,3332,3332,3331,3332,3332,3331,3331,3331,3331,3331,3331,3331,3331,3331,3332,3332,3332,3332,3332,3333,3333,3333,3333,3333,3333,3333,3333,3333,3333,3332,3332,3332,3332,3332,3332,3332,3332,3333,3332,3333,3333,3333,3332,3332,3332,3332,3332,3332,3332,3332,3332,3332,3332,3332,3332,3331,3331,3331,3331,3331,3332,3331,3331,3332,3332,3331,3332,3332,3333,3333,3333,3332,3333,3332,3333,3333,3332,3333,3332,3332,3332,3332,3332,3332,3332,3333,3333,3333,3333,3333,3333,3332,3332,3332,3333,3333,3332,3333,3332,3333,3333,3333,3333,3333,3333,3333,3333,3334,3333,3333,3333,3333,3333,3333,3333,3334,3334,3334,3334,3334,3334,3334,3335,3335,3335,3335,3335,3335,3335,3335,3335,3335,3335,3336,3336,3336,3336,3336,3336,3337,3337,3336,3336,3337\n",
      "\n",
      "[→] Checking for changes in Git...\n",
      "[i] No changes to commit.\n"
     ]
    }
   ],
   "source": [
    "import MetaTrader5 as mt5\n",
    "import pandas as pd\n",
    "from datetime import datetime\n",
    "import subprocess\n",
    "import os\n",
    "\n",
    "# === Step 1: Connect to MT5\n",
    "print(\"[...] Initializing MetaTrader 5\")\n",
    "if not mt5.initialize():\n",
    "    print(\"[✗] MT5 Initialization failed:\", mt5.last_error())\n",
    "    quit()\n",
    "\n",
    "symbol = \"XAUUSD\"\n",
    "if not mt5.symbol_select(symbol, True):\n",
    "    print(f\"[✗] Failed to select {symbol}\")\n",
    "    mt5.shutdown()\n",
    "    quit()\n",
    "\n",
    "# === Step 2: Fetch and save data\n",
    "print(\"[...] Fetching data from MT5...\")\n",
    "rates = mt5.copy_rates_from_pos(symbol, mt5.TIMEFRAME_M1, 0, 1000)\n",
    "df = pd.DataFrame(rates)\n",
    "df[\"time\"] = pd.to_datetime(df[\"time\"], unit=\"s\")\n",
    "\n",
    "# Save to CSV\n",
    "csv_file = \"xauusd_data.csv\"\n",
    "df.to_csv(csv_file, index=False)\n",
    "print(f\"[✓] Data saved to `{csv_file}`\")\n",
    "\n",
    "# Show last few rows\n",
    "print(\"\\n[✓] Last 5 rows of data:\")\n",
    "print(df.tail())\n",
    "\n",
    "# Show last 350 close prices as comma-separated integers\n",
    "print(\"\\n[📊] Last 350 closing prices (copy-paste ready):\")\n",
    "last_350 = \",\".join([str(int(val)) for val in df[\"close\"].tail(350)])\n",
    "print(last_350)\n",
    "\n",
    "# === Step 3: Disconnect from MT5\n",
    "mt5.shutdown()\n",
    "\n",
    "# === Step 4: Git commit & push if changes exist\n",
    "print(\"\\n[→] Checking for changes in Git...\")\n",
    "try:\n",
    "    subprocess.run([\"git\", \"add\", csv_file], check=True)\n",
    "\n",
    "    # Check if anything changed\n",
    "    result = subprocess.run([\"git\", \"status\", \"--porcelain\"], capture_output=True, text=True)\n",
    "    if result.stdout.strip() == \"\":\n",
    "        print(\"[i] No changes to commit.\")\n",
    "    else:\n",
    "        commit_msg = f\"Update xauusd_data.csv - {datetime.now().strftime('%Y-%m-%d %H:%M:%S')}\"\n",
    "        subprocess.run([\"git\", \"commit\", \"-m\", commit_msg], check=True)\n",
    "        subprocess.run([\"git\", \"push\"], check=True)\n",
    "        print(f\"[✓] CSV pushed to GitHub with message: '{commit_msg}'\")\n",
    "\n",
    "except subprocess.CalledProcessError as e:\n",
    "    print(f\"[✗] Git error: {e}\")"
   ]
  },
  {
   "cell_type": "code",
   "execution_count": null,
   "id": "4c4cc7ec-2eb4-4b85-be2d-a9c68a55f68c",
   "metadata": {},
   "outputs": [],
   "source": []
  }
 ],
 "metadata": {
  "kernelspec": {
   "display_name": "Python 3 (ipykernel)",
   "language": "python",
   "name": "python3"
  },
  "language_info": {
   "codemirror_mode": {
    "name": "ipython",
    "version": 3
   },
   "file_extension": ".py",
   "mimetype": "text/x-python",
   "name": "python",
   "nbconvert_exporter": "python",
   "pygments_lexer": "ipython3",
   "version": "3.12.3"
  }
 },
 "nbformat": 4,
 "nbformat_minor": 5
}
